{
 "cells": [
  {
   "cell_type": "code",
   "execution_count": 112,
   "id": "e6d48989-9064-460a-a60f-698a6ad5d92b",
   "metadata": {},
   "outputs": [],
   "source": [
    "import sys\n",
    "import logging\n",
    "logging.basicConfig(stream=sys.stdout, level=logging.INFO)\n",
    "logger = logging.getLogger()\n",
    "import tqdm\n",
    "from pathlib import Path"
   ]
  },
  {
   "cell_type": "code",
   "execution_count": 113,
   "id": "9c3a8bc9-816c-4fca-b171-523a6e8c7141",
   "metadata": {},
   "outputs": [],
   "source": [
    "import gspread\n",
    "from googleapiclient.discovery import build\n",
    "from google.oauth2.service_account import Credentials"
   ]
  },
  {
   "cell_type": "code",
   "execution_count": 114,
   "id": "435298ae-4832-4e92-89e6-d83ea30fadb6",
   "metadata": {},
   "outputs": [],
   "source": [
    "import pandas as pd"
   ]
  },
  {
   "cell_type": "code",
   "execution_count": 115,
   "id": "3a4ff5a0-8d8d-4896-ba27-b1e26fc54442",
   "metadata": {},
   "outputs": [],
   "source": [
    "gc = gspread.oauth(http_client=gspread.BackOffHTTPClient)"
   ]
  },
  {
   "cell_type": "code",
   "execution_count": 7,
   "id": "854db2a7-39de-4790-984d-53243f289e95",
   "metadata": {},
   "outputs": [],
   "source": [
    "def duplicate_spreadsheet(gc, spread_sheet, new_file_name, folder_id):\n",
    "    if matches:=gc.list_spreadsheet_files(new_file_name, folder_id):\n",
    "        logger.info(f\"{new_file_name} exists\")\n",
    "        try:\n",
    "            return gc.open(matches[0][\"id\"])\n",
    "        except:\n",
    "            pass\n",
    "\n",
    "    new_spread_sheet = gc.copy(\n",
    "        file_id=spread_sheet.id,\n",
    "        title=new_file_name,\n",
    "        folder_id=folder_id,\n",
    "    )\n",
    "    \n",
    "    return new_spread_sheet"
   ]
  },
  {
   "cell_type": "code",
   "execution_count": 8,
   "id": "84086752-c4b4-4d84-8c92-8f7e3c027119",
   "metadata": {},
   "outputs": [],
   "source": [
    "def get_base_wsheet(spread_sheet, wsheet_name):\n",
    "    for ws in spread_sheet.worksheets():\n",
    "        if ws.title == wsheet_name:\n",
    "            return ws\n",
    "    return None"
   ]
  },
  {
   "cell_type": "code",
   "execution_count": 9,
   "id": "e82719b8-663c-410f-8c26-e87e7369f525",
   "metadata": {},
   "outputs": [],
   "source": [
    "def copy_base_spread_sheet(base_spread_sheet_url, new_file_name, directory_id):\n",
    "    base_spreadsheet = gc.open_by_url(base_spread_sheet_url)\n",
    "    new_sp = duplicate_spreadsheet(gc, base_spreadsheet, new_file_name, directory_id)\n",
    "    return new_sp"
   ]
  },
  {
   "cell_type": "code",
   "execution_count": 59,
   "id": "ab41f16f-91ac-4835-a98e-cd472cf8a9cf",
   "metadata": {},
   "outputs": [],
   "source": [
    "def load_df(path):\n",
    "    df = (pd\n",
    "        .read_csv(path, index_col=[0, 1, 2, 3])\n",
    "        .sample(frac=1)\n",
    "    )\n",
    "    return df"
   ]
  },
  {
   "cell_type": "code",
   "execution_count": 110,
   "id": "f5a12225-8db8-47af-9516-884f555e0228",
   "metadata": {},
   "outputs": [],
   "source": [
    "def fill_spread_sheet(spread_sheet, df):\n",
    "    base_sheet = get_base_wsheet(spread_sheet, \"blank\")\n",
    "    assert base_sheet is not None\n",
    "    base_sheet_id = base_sheet.id\n",
    "    for i, (idx, row) in tqdm.tqdm(enumerate(df.iterrows())):\n",
    "        gen_id = idx[0]\n",
    "        source = row[\"inputs\"]\n",
    "        pred = row[\"value\"]\n",
    "\n",
    "        ws = spread_sheet.duplicate_sheet(\n",
    "            source_sheet_id = base_sheet_id,\n",
    "            insert_sheet_index=i+1,\n",
    "            new_sheet_name=f\"{i+1}\"\n",
    "        )\n",
    "        ws.update_acell(\"a1\", gen_id)\n",
    "        ws.update_acell(\"d1\", source)\n",
    "        ws.update_acell(\"g1\", pred)\n",
    "\n",
    "            \n",
    "    spread_sheet.del_worksheet(spread_sheet.get_worksheet(0))"
   ]
  },
  {
   "cell_type": "code",
   "execution_count": 111,
   "id": "fdcfcb00-1206-4190-8ca8-332c8c8e59cd",
   "metadata": {},
   "outputs": [
    {
     "name": "stdout",
     "output_type": "stream",
     "text": [
      "INFO:root:falc.mtl.1 exists\n"
     ]
    },
    {
     "name": "stderr",
     "output_type": "stream",
     "text": [
      "24it [00:44,  1.86s/it]\n"
     ]
    },
    {
     "name": "stdout",
     "output_type": "stream",
     "text": [
      "INFO:root:falc.mtl.2 exists\n"
     ]
    },
    {
     "name": "stderr",
     "output_type": "stream",
     "text": [
      "24it [01:31,  3.81s/it]\n"
     ]
    },
    {
     "name": "stdout",
     "output_type": "stream",
     "text": [
      "INFO:root:falc.mtl.3 exists\n"
     ]
    },
    {
     "name": "stderr",
     "output_type": "stream",
     "text": [
      "24it [01:37,  4.08s/it]\n"
     ]
    },
    {
     "name": "stdout",
     "output_type": "stream",
     "text": [
      "INFO:root:falc.mtl.4 exists\n"
     ]
    },
    {
     "name": "stderr",
     "output_type": "stream",
     "text": [
      "24it [00:56,  2.37s/it]\n"
     ]
    },
    {
     "name": "stdout",
     "output_type": "stream",
     "text": [
      "INFO:root:falc.mtl.5 exists\n"
     ]
    },
    {
     "name": "stderr",
     "output_type": "stream",
     "text": [
      "24it [01:32,  3.85s/it]\n"
     ]
    },
    {
     "name": "stdout",
     "output_type": "stream",
     "text": [
      "INFO:root:falc.mtl.6 exists\n"
     ]
    },
    {
     "name": "stderr",
     "output_type": "stream",
     "text": [
      "24it [02:09,  5.38s/it]\n"
     ]
    },
    {
     "name": "stdout",
     "output_type": "stream",
     "text": [
      "INFO:root:falc.mtl.7 exists\n"
     ]
    },
    {
     "name": "stderr",
     "output_type": "stream",
     "text": [
      "24it [01:06,  2.76s/it]\n"
     ]
    },
    {
     "name": "stdout",
     "output_type": "stream",
     "text": [
      "INFO:root:falc.mtl.8 exists\n"
     ]
    },
    {
     "name": "stderr",
     "output_type": "stream",
     "text": [
      "24it [02:00,  5.01s/it]\n"
     ]
    },
    {
     "name": "stdout",
     "output_type": "stream",
     "text": [
      "INFO:root:falc.mtl.9 exists\n"
     ]
    },
    {
     "name": "stderr",
     "output_type": "stream",
     "text": [
      "24it [02:35,  6.48s/it]\n"
     ]
    },
    {
     "name": "stdout",
     "output_type": "stream",
     "text": [
      "INFO:root:falc.mtl.10 exists\n"
     ]
    },
    {
     "name": "stderr",
     "output_type": "stream",
     "text": [
      "24it [00:51,  2.14s/it]\n"
     ]
    }
   ],
   "source": [
    "# TGT_FOLDER_ID = \"1pV0dYERl9N0y2vD3M8hLTD7Juyi3fqVu\"\n",
    "# BASE_SPREAD_SHEET_URL = \"https://docs.google.com/spreadsheets/d/13rSZKWu9oc3nBqz79TgupvoaBGaRpwTT08flCAKII-Q\"\n",
    "# for f in Path(\"./data/annot_dfs/\").glob(\"samples_ann_*.csv\"):\n",
    "#     name = f\"falc.mtl.{int(f.stem.split(\"_\")[-1])}\"\n",
    "#     df = load_df(f)\n",
    "#     spread_sheet = copy_base_spread_sheet(BASE_SPREAD_SHEET_URL, name, TGT_FOLDER_ID)\n",
    "#     fill_spread_sheet(spread_sheet, df)"
   ]
  },
  {
   "cell_type": "code",
   "execution_count": 119,
   "id": "2e0bb4b2-3d3a-4494-934f-9b5fec8d6755",
   "metadata": {},
   "outputs": [],
   "source": []
  },
  {
   "cell_type": "code",
   "execution_count": 128,
   "id": "67a094f6-66a2-4809-bf08-e7b98a8b4b5f",
   "metadata": {},
   "outputs": [
    {
     "name": "stderr",
     "output_type": "stream",
     "text": [
      "6it [00:08,  1.49s/it]\n",
      "6it [00:07,  1.20s/it]\n",
      "6it [00:39,  6.51s/it]\n",
      "6it [00:08,  1.38s/it]\n",
      "6it [00:05,  1.04it/s]\n",
      "6it [00:38,  6.42s/it]\n",
      "6it [00:07,  1.24s/it]\n",
      "6it [00:08,  1.42s/it]\n",
      "6it [00:38,  6.40s/it]\n",
      "6it [00:06,  1.04s/it]\n"
     ]
    }
   ],
   "source": [
    "TGT_FOLDER_ID = \"1pV0dYERl9N0y2vD3M8hLTD7Juyi3fqVu\"\n",
    "BASE_SPREAD_SHEET_URL = \"https://docs.google.com/spreadsheets/d/13rSZKWu9oc3nBqz79TgupvoaBGaRpwTT08flCAKII-Q\"\n",
    "f = Path(\"./data/annot_dfs/inter_annotator.csv\")\n",
    "df = load_df(f)\n",
    "for i in range(10):\n",
    "    name = f\"falc.mtl.interannot.{i}\"\n",
    "    spread_sheet = copy_base_spread_sheet(BASE_SPREAD_SHEET_URL, name, TGT_FOLDER_ID)\n",
    "    fill_spread_sheet(spread_sheet, df.sample(frac=1))"
   ]
  },
  {
   "cell_type": "code",
   "execution_count": null,
   "id": "95cb599b-b0c0-4f02-9fd6-8919d75d0250",
   "metadata": {},
   "outputs": [],
   "source": []
  },
  {
   "cell_type": "code",
   "execution_count": 158,
   "id": "61fd61b1-8cdc-49df-9892-25ca83bac744",
   "metadata": {},
   "outputs": [],
   "source": [
    "df = load_df(f)"
   ]
  },
  {
   "cell_type": "code",
   "execution_count": 185,
   "id": "0eb20dc1-61fb-44ae-a20a-2b7b2d0b351f",
   "metadata": {},
   "outputs": [
    {
     "data": {
      "text/html": [
       "<div>\n",
       "<style scoped>\n",
       "    .dataframe tbody tr th:only-of-type {\n",
       "        vertical-align: middle;\n",
       "    }\n",
       "\n",
       "    .dataframe tbody tr th {\n",
       "        vertical-align: top;\n",
       "    }\n",
       "\n",
       "    .dataframe thead th {\n",
       "        text-align: right;\n",
       "    }\n",
       "</style>\n",
       "<table border=\"1\" class=\"dataframe\">\n",
       "  <thead>\n",
       "    <tr style=\"text-align: right;\">\n",
       "      <th></th>\n",
       "      <th></th>\n",
       "      <th></th>\n",
       "      <th></th>\n",
       "      <th>inputs</th>\n",
       "      <th>value</th>\n",
       "    </tr>\n",
       "    <tr>\n",
       "      <th>level_0</th>\n",
       "      <th>model</th>\n",
       "      <th>test_set</th>\n",
       "      <th>input_id</th>\n",
       "      <th></th>\n",
       "      <th></th>\n",
       "    </tr>\n",
       "  </thead>\n",
       "  <tbody>\n",
       "    <tr>\n",
       "      <th>185</th>\n",
       "      <th>labels</th>\n",
       "      <th>test_etr_fr_politic</th>\n",
       "      <th>13</th>\n",
       "      <td>UNE PRIORITÉ : LE CLIMAT. • Plus un euro d’arg...</td>\n",
       "      <td>Protéger la planète. • L’Etat ne donnera plus ...</td>\n",
       "    </tr>\n",
       "    <tr>\n",
       "      <th>1153</th>\n",
       "      <th>('llamaVIIIinst', 'rag', 'etrfr')</th>\n",
       "      <th>test_etr_fr</th>\n",
       "      <th>2</th>\n",
       "      <td>Lucas prend son visage entre ses mains et réfl...</td>\n",
       "      <td>Lucas est inquiet pour Manon. Il demande conse...</td>\n",
       "    </tr>\n",
       "    <tr>\n",
       "      <th>1620</th>\n",
       "      <th>('llamaVIII', 'mtllora', 'etrfr+orangesum+wikilarge')</th>\n",
       "      <th>test_etr_fr</th>\n",
       "      <th>39</th>\n",
       "      <td>Il avale ses tartines à toute vitesse et il va...</td>\n",
       "      <td>Jules mange vite ses tartines. Puis il va voir...</td>\n",
       "    </tr>\n",
       "    <tr>\n",
       "      <th>1569</th>\n",
       "      <th>('llamaVIII', 'mtllora', 'etrfr+orangesum+wikilarge')</th>\n",
       "      <th>test_etr_fr_politic</th>\n",
       "      <th>21</th>\n",
       "      <td>VIVRE BIEN. Vivre en bonne santé, c’est respir...</td>\n",
       "      <td>VIVRE BIEN. Vivre en bonne santé, c'est respir...</td>\n",
       "    </tr>\n",
       "    <tr>\n",
       "      <th>1122</th>\n",
       "      <th>('llamaVIIIinst', 'rag', 'etrfr')</th>\n",
       "      <th>test_etr_fr_politic</th>\n",
       "      <th>4</th>\n",
       "      <td>HÔPITAUX, EHPAD: À BAS LA LOI DU PROFIT! 100 0...</td>\n",
       "      <td>Les hôpitaux et les maisons de retraite sont e...</td>\n",
       "    </tr>\n",
       "    <tr>\n",
       "      <th>245</th>\n",
       "      <th>labels</th>\n",
       "      <th>test_etr_fr</th>\n",
       "      <th>40</th>\n",
       "      <td>Malgré cette situation incroyable, il ouvre la...</td>\n",
       "      <td>« Mais, mais tu es un chat qui parle? » « Oui,...</td>\n",
       "    </tr>\n",
       "  </tbody>\n",
       "</table>\n",
       "</div>"
      ],
      "text/plain": [
       "                                                                                                                                    inputs  \\\n",
       "level_0 model                                              test_set            input_id                                                      \n",
       "185     labels                                             test_etr_fr_politic 13        UNE PRIORITÉ : LE CLIMAT. • Plus un euro d’arg...   \n",
       "1153    ('llamaVIIIinst', 'rag', 'etrfr')                  test_etr_fr         2         Lucas prend son visage entre ses mains et réfl...   \n",
       "1620    ('llamaVIII', 'mtllora', 'etrfr+orangesum+wikil... test_etr_fr         39        Il avale ses tartines à toute vitesse et il va...   \n",
       "1569    ('llamaVIII', 'mtllora', 'etrfr+orangesum+wikil... test_etr_fr_politic 21        VIVRE BIEN. Vivre en bonne santé, c’est respir...   \n",
       "1122    ('llamaVIIIinst', 'rag', 'etrfr')                  test_etr_fr_politic 4         HÔPITAUX, EHPAD: À BAS LA LOI DU PROFIT! 100 0...   \n",
       "245     labels                                             test_etr_fr         40        Malgré cette situation incroyable, il ouvre la...   \n",
       "\n",
       "                                                                                                                                     value  \n",
       "level_0 model                                              test_set            input_id                                                     \n",
       "185     labels                                             test_etr_fr_politic 13        Protéger la planète. • L’Etat ne donnera plus ...  \n",
       "1153    ('llamaVIIIinst', 'rag', 'etrfr')                  test_etr_fr         2         Lucas est inquiet pour Manon. Il demande conse...  \n",
       "1620    ('llamaVIII', 'mtllora', 'etrfr+orangesum+wikil... test_etr_fr         39        Jules mange vite ses tartines. Puis il va voir...  \n",
       "1569    ('llamaVIII', 'mtllora', 'etrfr+orangesum+wikil... test_etr_fr_politic 21        VIVRE BIEN. Vivre en bonne santé, c'est respir...  \n",
       "1122    ('llamaVIIIinst', 'rag', 'etrfr')                  test_etr_fr_politic 4         Les hôpitaux et les maisons de retraite sont e...  \n",
       "245     labels                                             test_etr_fr         40        « Mais, mais tu es un chat qui parle? » « Oui,...  "
      ]
     },
     "execution_count": 185,
     "metadata": {},
     "output_type": "execute_result"
    }
   ],
   "source": [
    "df.sample(frac=1)"
   ]
  },
  {
   "cell_type": "code",
   "execution_count": null,
   "id": "10370922-9708-4c69-92d5-2f1862d3b5eb",
   "metadata": {},
   "outputs": [],
   "source": []
  }
 ],
 "metadata": {
  "kernelspec": {
   "display_name": "Python 3 (ipykernel)",
   "language": "python",
   "name": "python3"
  },
  "language_info": {
   "codemirror_mode": {
    "name": "ipython",
    "version": 3
   },
   "file_extension": ".py",
   "mimetype": "text/x-python",
   "name": "python",
   "nbconvert_exporter": "python",
   "pygments_lexer": "ipython3",
   "version": "3.12.8"
  }
 },
 "nbformat": 4,
 "nbformat_minor": 5
}
