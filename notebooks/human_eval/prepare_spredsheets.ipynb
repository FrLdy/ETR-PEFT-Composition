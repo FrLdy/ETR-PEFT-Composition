{
 "cells": [
  {
   "cell_type": "code",
   "execution_count": 16,
   "id": "e6d48989-9064-460a-a60f-698a6ad5d92b",
   "metadata": {},
   "outputs": [],
   "source": [
    "import sys\n",
    "import logging\n",
    "logging.basicConfig(stream=sys.stdout, level=logging.INFO)\n",
    "logger = logging.getLogger()\n",
    "import tqdm"
   ]
  },
  {
   "cell_type": "code",
   "execution_count": 2,
   "id": "9c3a8bc9-816c-4fca-b171-523a6e8c7141",
   "metadata": {},
   "outputs": [],
   "source": [
    "import gspread\n",
    "from googleapiclient.discovery import build\n",
    "from google.oauth2.service_account import Credentials"
   ]
  },
  {
   "cell_type": "code",
   "execution_count": 3,
   "id": "435298ae-4832-4e92-89e6-d83ea30fadb6",
   "metadata": {},
   "outputs": [],
   "source": [
    "import pandas as pd"
   ]
  },
  {
   "cell_type": "code",
   "execution_count": 33,
   "id": "3a4ff5a0-8d8d-4896-ba27-b1e26fc54442",
   "metadata": {},
   "outputs": [],
   "source": [
    "gc = gspread.oauth(http_client=gspread.BackOffHTTPClient)"
   ]
  },
  {
   "cell_type": "code",
   "execution_count": 27,
   "id": "0f6d799b-82f1-49e9-b186-1112552cda20",
   "metadata": {},
   "outputs": [],
   "source": [
    "TGT_FOLDER_ID = \"1HtDcsv1nSa-iRyVHjR8YsQZqfDYED9jB\"\n",
    "BASE_SPREAD_SHEET_URL = \"https://docs.google.com/spreadsheets/d/1x9EmAuCX3MIPzLbqkFVA0FNT83Dswl1xoiAMMjpc3ZA\""
   ]
  },
  {
   "cell_type": "code",
   "execution_count": 28,
   "id": "854db2a7-39de-4790-984d-53243f289e95",
   "metadata": {},
   "outputs": [],
   "source": [
    "def duplicate_spreadsheet(gc, spread_sheet, new_file_name, folder_id):\n",
    "    if matches:=gc.list_spreadsheet_files(new_file_name, folder_id):\n",
    "        logger.info(f\"{new_file_name} exists\")\n",
    "        try:\n",
    "            return gc.open(matches[0][\"id\"])\n",
    "        except:\n",
    "            pass\n",
    "\n",
    "    new_spread_sheet = gc.copy(\n",
    "        file_id=spread_sheet.id,\n",
    "        title=new_file_name,\n",
    "        folder_id=folder_id,\n",
    "    )\n",
    "    \n",
    "    return new_spread_sheet"
   ]
  },
  {
   "cell_type": "code",
   "execution_count": 29,
   "id": "84086752-c4b4-4d84-8c92-8f7e3c027119",
   "metadata": {},
   "outputs": [],
   "source": [
    "def get_base_wsheet(spread_sheet, wsheet_name):\n",
    "    for ws in spread_sheet.worksheets():\n",
    "        if ws.title == wsheet_name:\n",
    "            return ws\n",
    "    return None"
   ]
  },
  {
   "cell_type": "code",
   "execution_count": 30,
   "id": "260b92c9-30a4-48d8-865e-8ed26280ff4f",
   "metadata": {},
   "outputs": [],
   "source": [
    "df = pd.read_json(\"./selected_samples.json\")"
   ]
  },
  {
   "cell_type": "code",
   "execution_count": 34,
   "id": "e82719b8-663c-410f-8c26-e87e7369f525",
   "metadata": {},
   "outputs": [
    {
     "name": "stdout",
     "output_type": "stream",
     "text": [
      "INFO:root:falc_eval.blank exists\n"
     ]
    },
    {
     "name": "stderr",
     "output_type": "stream",
     "text": [
      "60it [04:11,  4.19s/it]\n"
     ]
    }
   ],
   "source": [
    "base_spreadsheet = gc.open_by_url(BASE_SPREAD_SHEET_URL)\n",
    "new_file_name = \"falc_eval.blank\"\n",
    "new_sp = duplicate_spreadsheet(gc, base_spreadsheet, new_file_name, TGT_FOLDER_ID)\n",
    "gc.list_spreadsheet_files(new_file_name, TGT_FOLDER_ID)\n",
    "for i, (idx, row) in tqdm.tqdm(enumerate(df.iterrows())):\n",
    "    source = row[\"source\"]\n",
    "    pred = row[\"prediction\"]\n",
    "    try:\n",
    "        ws = new_sp.duplicate_sheet(\n",
    "            source_sheet_id=get_base_wsheet(new_sp, \"exemple\").id,\n",
    "            insert_sheet_index=i+1,\n",
    "            new_sheet_name=f\"Exemple {i+1}\"\n",
    "        )\n",
    "        ws.update_acell(\"a1\", idx)\n",
    "        ws.update_acell(\"d1\", source)\n",
    "        ws.update_acell(\"g1\", pred)\n",
    "    except:\n",
    "        pass\n",
    "    "
   ]
  },
  {
   "cell_type": "code",
   "execution_count": 83,
   "id": "9193309f-bf8b-46b3-a681-a3dda5a4ba38",
   "metadata": {},
   "outputs": [
    {
     "data": {
      "text/plain": [
       "{'spreadsheetId': '1T4dPMLkR9VV7c6HqasaQx1g8OCjjo7G_h4bR70RU3nM',\n",
       " 'updatedRange': \"'Exemple 1'!A1\",\n",
       " 'updatedRows': 1,\n",
       " 'updatedColumns': 1,\n",
       " 'updatedCells': 1}"
      ]
     },
     "execution_count": 83,
     "metadata": {},
     "output_type": "execute_result"
    }
   ],
   "source": []
  },
  {
   "cell_type": "code",
   "execution_count": 84,
   "id": "ed018327-14d8-48f9-8600-a9c3f77b9536",
   "metadata": {},
   "outputs": [
    {
     "data": {
      "text/plain": [
       "[['1']]"
      ]
     },
     "execution_count": 84,
     "metadata": {},
     "output_type": "execute_result"
    }
   ],
   "source": [
    "ws.get(\"a1\")"
   ]
  },
  {
   "cell_type": "code",
   "execution_count": null,
   "id": "7ba88739-1106-45d0-b473-91dffa8adcd2",
   "metadata": {},
   "outputs": [],
   "source": []
  }
 ],
 "metadata": {
  "kernelspec": {
   "display_name": "Python 3 (ipykernel)",
   "language": "python",
   "name": "python3"
  },
  "language_info": {
   "codemirror_mode": {
    "name": "ipython",
    "version": 3
   },
   "file_extension": ".py",
   "mimetype": "text/x-python",
   "name": "python",
   "nbconvert_exporter": "python",
   "pygments_lexer": "ipython3",
   "version": "3.12.8"
  }
 },
 "nbformat": 4,
 "nbformat_minor": 5
}
