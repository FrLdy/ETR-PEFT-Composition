{
 "cells": [
  {
   "cell_type": "code",
   "execution_count": 11,
   "id": "e6d48989-9064-460a-a60f-698a6ad5d92b",
   "metadata": {},
   "outputs": [],
   "source": [
    "import sys\n",
    "import logging\n",
    "logging.basicConfig(stream=sys.stdout, level=logging.INFO)\n",
    "logger = logging.getLogger()\n",
    "import tqdm\n",
    "from pathlib import Path"
   ]
  },
  {
   "cell_type": "code",
   "execution_count": 3,
   "id": "9c3a8bc9-816c-4fca-b171-523a6e8c7141",
   "metadata": {},
   "outputs": [],
   "source": [
    "import gspread\n",
    "from googleapiclient.discovery import build\n",
    "from google.oauth2.service_account import Credentials"
   ]
  },
  {
   "cell_type": "code",
   "execution_count": 4,
   "id": "435298ae-4832-4e92-89e6-d83ea30fadb6",
   "metadata": {},
   "outputs": [],
   "source": [
    "import pandas as pd"
   ]
  },
  {
   "cell_type": "code",
   "execution_count": 5,
   "id": "3a4ff5a0-8d8d-4896-ba27-b1e26fc54442",
   "metadata": {},
   "outputs": [],
   "source": [
    "gc = gspread.oauth(http_client=gspread.BackOffHTTPClient)"
   ]
  },
  {
   "cell_type": "code",
   "execution_count": 6,
   "id": "0f6d799b-82f1-49e9-b186-1112552cda20",
   "metadata": {},
   "outputs": [],
   "source": [
    "TGT_FOLDER_ID = \"16vFggD_RFkWa-sKZipSi1Ugh_br8zvNX\"\n",
    "BASE_SPREAD_SHEET_URL = \"https://docs.google.com/spreadsheets/d/13rSZKWu9oc3nBqz79TgupvoaBGaRpwTT08flCAKII-Q\""
   ]
  },
  {
   "cell_type": "code",
   "execution_count": 7,
   "id": "854db2a7-39de-4790-984d-53243f289e95",
   "metadata": {},
   "outputs": [],
   "source": [
    "def duplicate_spreadsheet(gc, spread_sheet, new_file_name, folder_id):\n",
    "    if matches:=gc.list_spreadsheet_files(new_file_name, folder_id):\n",
    "        logger.info(f\"{new_file_name} exists\")\n",
    "        try:\n",
    "            return gc.open(matches[0][\"id\"])\n",
    "        except:\n",
    "            pass\n",
    "\n",
    "    new_spread_sheet = gc.copy(\n",
    "        file_id=spread_sheet.id,\n",
    "        title=new_file_name,\n",
    "        folder_id=folder_id,\n",
    "    )\n",
    "    \n",
    "    return new_spread_sheet"
   ]
  },
  {
   "cell_type": "code",
   "execution_count": 8,
   "id": "84086752-c4b4-4d84-8c92-8f7e3c027119",
   "metadata": {},
   "outputs": [],
   "source": [
    "def get_base_wsheet(spread_sheet, wsheet_name):\n",
    "    for ws in spread_sheet.worksheets():\n",
    "        if ws.title == wsheet_name:\n",
    "            return ws\n",
    "    return None"
   ]
  },
  {
   "cell_type": "code",
   "execution_count": 9,
   "id": "e82719b8-663c-410f-8c26-e87e7369f525",
   "metadata": {},
   "outputs": [],
   "source": [
    "def copy_base_spread_sheet(base_spread_sheet_url, new_file_name, directory_id):\n",
    "    base_spreadsheet = gc.open_by_url(BASE_SPREAD_SHEET_URL)\n",
    "    new_sp = duplicate_spreadsheet(gc, base_spreadsheet, new_file_name, directory_id)\n",
    "    return new_sp"
   ]
  },
  {
   "cell_type": "code",
   "execution_count": 59,
   "id": "ab41f16f-91ac-4835-a98e-cd472cf8a9cf",
   "metadata": {},
   "outputs": [],
   "source": [
    "def load_df(path):\n",
    "    df = (pd\n",
    "        .read_csv(path, index_col=[0, 1, 2, 3])\n",
    "        .sample(frac=1)\n",
    "    )\n",
    "    return df"
   ]
  },
  {
   "cell_type": "code",
   "execution_count": 110,
   "id": "f5a12225-8db8-47af-9516-884f555e0228",
   "metadata": {},
   "outputs": [],
   "source": [
    "def fill_spread_sheet(spread_sheet, df):\n",
    "    base_sheet = get_base_wsheet(spread_sheet, \"blank\")\n",
    "    assert base_sheet is not None\n",
    "    base_sheet_id = base_sheet.id\n",
    "    for i, (idx, row) in tqdm.tqdm(enumerate(df.iterrows())):\n",
    "        gen_id = idx[0]\n",
    "        source = row[\"inputs\"]\n",
    "        pred = row[\"value\"]\n",
    "\n",
    "        ws = spread_sheet.duplicate_sheet(\n",
    "            source_sheet_id = base_sheet_id,\n",
    "            insert_sheet_index=i+1,\n",
    "            new_sheet_name=f\"{i+1}\"\n",
    "        )\n",
    "        ws.update_acell(\"a1\", gen_id)\n",
    "        ws.update_acell(\"d1\", source)\n",
    "        ws.update_acell(\"g1\", pred)\n",
    "\n",
    "            \n",
    "    spread_sheet.del_worksheet(spread_sheet.get_worksheet(0))"
   ]
  },
  {
   "cell_type": "code",
   "execution_count": 111,
   "id": "fdcfcb00-1206-4190-8ca8-332c8c8e59cd",
   "metadata": {},
   "outputs": [
    {
     "name": "stdout",
     "output_type": "stream",
     "text": [
      "INFO:root:falc.mtl.1 exists\n"
     ]
    },
    {
     "name": "stderr",
     "output_type": "stream",
     "text": [
      "24it [00:44,  1.86s/it]\n"
     ]
    },
    {
     "name": "stdout",
     "output_type": "stream",
     "text": [
      "INFO:root:falc.mtl.2 exists\n"
     ]
    },
    {
     "name": "stderr",
     "output_type": "stream",
     "text": [
      "24it [01:31,  3.81s/it]\n"
     ]
    },
    {
     "name": "stdout",
     "output_type": "stream",
     "text": [
      "INFO:root:falc.mtl.3 exists\n"
     ]
    },
    {
     "name": "stderr",
     "output_type": "stream",
     "text": [
      "24it [01:37,  4.08s/it]\n"
     ]
    },
    {
     "name": "stdout",
     "output_type": "stream",
     "text": [
      "INFO:root:falc.mtl.4 exists\n"
     ]
    },
    {
     "name": "stderr",
     "output_type": "stream",
     "text": [
      "24it [00:56,  2.37s/it]\n"
     ]
    },
    {
     "name": "stdout",
     "output_type": "stream",
     "text": [
      "INFO:root:falc.mtl.5 exists\n"
     ]
    },
    {
     "name": "stderr",
     "output_type": "stream",
     "text": [
      "24it [01:32,  3.85s/it]\n"
     ]
    },
    {
     "name": "stdout",
     "output_type": "stream",
     "text": [
      "INFO:root:falc.mtl.6 exists\n"
     ]
    },
    {
     "name": "stderr",
     "output_type": "stream",
     "text": [
      "24it [02:09,  5.38s/it]\n"
     ]
    },
    {
     "name": "stdout",
     "output_type": "stream",
     "text": [
      "INFO:root:falc.mtl.7 exists\n"
     ]
    },
    {
     "name": "stderr",
     "output_type": "stream",
     "text": [
      "24it [01:06,  2.76s/it]\n"
     ]
    },
    {
     "name": "stdout",
     "output_type": "stream",
     "text": [
      "INFO:root:falc.mtl.8 exists\n"
     ]
    },
    {
     "name": "stderr",
     "output_type": "stream",
     "text": [
      "24it [02:00,  5.01s/it]\n"
     ]
    },
    {
     "name": "stdout",
     "output_type": "stream",
     "text": [
      "INFO:root:falc.mtl.9 exists\n"
     ]
    },
    {
     "name": "stderr",
     "output_type": "stream",
     "text": [
      "24it [02:35,  6.48s/it]\n"
     ]
    },
    {
     "name": "stdout",
     "output_type": "stream",
     "text": [
      "INFO:root:falc.mtl.10 exists\n"
     ]
    },
    {
     "name": "stderr",
     "output_type": "stream",
     "text": [
      "24it [00:51,  2.14s/it]\n"
     ]
    }
   ],
   "source": [
    "for f in Path(\"./data/annot_dfs/\").glob(\"samples_ann_*.csv\"):\n",
    "    name = f\"falc.mtl.{int(f.stem.split(\"_\")[-1])}\"\n",
    "    df = load_df(f)\n",
    "    spread_sheet = copy_base_spread_sheet(BASE_SPREAD_SHEET_URL, name, TGT_FOLDER_ID)\n",
    "    fill_spread_sheet(spread_sheet, df)"
   ]
  }
 ],
 "metadata": {
  "kernelspec": {
   "display_name": "Python 3 (ipykernel)",
   "language": "python",
   "name": "python3"
  },
  "language_info": {
   "codemirror_mode": {
    "name": "ipython",
    "version": 3
   },
   "file_extension": ".py",
   "mimetype": "text/x-python",
   "name": "python",
   "nbconvert_exporter": "python",
   "pygments_lexer": "ipython3",
   "version": "3.12.8"
  }
 },
 "nbformat": 4,
 "nbformat_minor": 5
}
