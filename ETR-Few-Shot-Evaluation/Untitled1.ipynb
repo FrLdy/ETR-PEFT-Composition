{
 "cells": [
  {
   "cell_type": "code",
   "execution_count": 56,
   "id": "802dc82c-461e-45e3-bb40-3c7ec391e69c",
   "metadata": {},
   "outputs": [
    {
     "data": {
      "text/plain": [
       "'2.44.1'"
      ]
     },
     "execution_count": 56,
     "metadata": {},
     "output_type": "execute_result"
    }
   ],
   "source": [
    "from ray import tune\n",
    "import ray\n",
    "ray.__version__"
   ]
  },
  {
   "cell_type": "code",
   "execution_count": 1,
   "id": "1ce2130a-1c7e-4624-9c5c-1042f73fac63",
   "metadata": {},
   "outputs": [],
   "source": [
    "%load_ext autoreload\n",
    "%autoreload 2"
   ]
  },
  {
   "cell_type": "code",
   "execution_count": 2,
   "id": "4a47c5a6-b8da-4489-9b5c-6ee4562c0232",
   "metadata": {},
   "outputs": [],
   "source": [
    "from sentence_transformers import SentenceTransformer"
   ]
  },
  {
   "cell_type": "code",
   "execution_count": 3,
   "id": "5a06b992-7383-42de-b265-231ededfbe03",
   "metadata": {},
   "outputs": [],
   "source": [
    "import numpy as np\n",
    "import faiss"
   ]
  },
  {
   "cell_type": "code",
   "execution_count": 4,
   "id": "d4e4675d-f125-4644-9074-f17863e42239",
   "metadata": {},
   "outputs": [],
   "source": [
    "model_id = \"jinaai/jina-embeddings-v3\""
   ]
  },
  {
   "cell_type": "code",
   "execution_count": 5,
   "id": "4c614926-9701-4fef-a7eb-8b339c88ad29",
   "metadata": {},
   "outputs": [
    {
     "name": "stderr",
     "output_type": "stream",
     "text": [
      "[nltk_data] Downloading package punkt_tab to\n",
      "[nltk_data]     /home/ledoyen202/nltk_data...\n",
      "[nltk_data]   Package punkt_tab is already up-to-date!\n"
     ]
    }
   ],
   "source": [
    "from icl.embedding_index import EmbeddingIndex, EmbeddingIndexBuilderConfig, EmbeddingIndexBuilder\n",
    "from etr_fr.dataset import load_etr_fr, DS_KEY_ETR_FR"
   ]
  },
  {
   "cell_type": "code",
   "execution_count": 6,
   "id": "f45156b2-dec8-4d99-82d0-b4a663940306",
   "metadata": {},
   "outputs": [],
   "source": [
    "ds = load_etr_fr(\"./data/etr-fr\", use_cache=True)"
   ]
  },
  {
   "cell_type": "code",
   "execution_count": 7,
   "id": "b93557af-1e19-4718-830f-8df7a5844b6a",
   "metadata": {},
   "outputs": [],
   "source": [
    "config = EmbeddingIndexBuilderConfig(\n",
    "    model_name=model_id,\n",
    ")"
   ]
  },
  {
   "cell_type": "code",
   "execution_count": 9,
   "id": "d047b4b9-51af-409c-9cf3-9798a46e6ac3",
   "metadata": {},
   "outputs": [],
   "source": [
    "embedding_index = EmbeddingIndex(\n",
    "    dataset_name=DS_KEY_ETR_FR,\n",
    "    split=\"test\",\n",
    "    dataset=ds[\"test\"].select(range(5)),\n",
    ")"
   ]
  },
  {
   "cell_type": "code",
   "execution_count": 10,
   "id": "43a11ec0-7aa1-497f-bef8-8adda0e66209",
   "metadata": {},
   "outputs": [],
   "source": [
    "embedding_index.build_index(config)\n",
    "# embedding_index.save_index(\"./index_embeddings\")"
   ]
  },
  {
   "cell_type": "code",
   "execution_count": 35,
   "id": "bdbd5b77-3543-4a5d-91fa-113d6db2efeb",
   "metadata": {},
   "outputs": [
    {
     "data": {
      "text/plain": [
       "'src_embedding'"
      ]
     },
     "execution_count": 35,
     "metadata": {},
     "output_type": "execute_result"
    }
   ],
   "source": [
    "embedding_index.search(ebd).shots[0].content"
   ]
  },
  {
   "cell_type": "code",
   "execution_count": 32,
   "id": "2f9e7c22-fe64-4be4-a869-7db7d0096e22",
   "metadata": {},
   "outputs": [],
   "source": [
    "ebd = embedding_index.dataset[0][\"src_embedding\"][None, :]"
   ]
  },
  {
   "cell_type": "code",
   "execution_count": 23,
   "id": "f27e9760-6b6b-4ddc-a2cc-141969eaddc4",
   "metadata": {},
   "outputs": [],
   "source": [
    "builder = EmbeddingIndexBuilder(config)"
   ]
  },
  {
   "cell_type": "code",
   "execution_count": null,
   "id": "80c06f9f-2920-4ad4-8e46-fb6d25fdf8a7",
   "metadata": {},
   "outputs": [],
   "source": []
  },
  {
   "cell_type": "code",
   "execution_count": 93,
   "id": "3485e307-1cbc-4942-9182-ad3fdb0ad0d9",
   "metadata": {},
   "outputs": [],
   "source": [
    "query_embedding = builder.model.encode([ds[\"test\"][\"src\"][52]], convert_to_numpy=True)\n",
    "D, I = embedding_index.index.search(query_embedding, k=1)"
   ]
  },
  {
   "cell_type": "code",
   "execution_count": 94,
   "id": "d72f9b7a-9ecc-43da-b331-fd69ff1090ee",
   "metadata": {},
   "outputs": [
    {
     "data": {
      "text/plain": [
       "[0.47938287258148193]"
      ]
     },
     "execution_count": 94,
     "metadata": {},
     "output_type": "execute_result"
    }
   ],
   "source": [
    "D.tolist()[0]"
   ]
  },
  {
   "cell_type": "code",
   "execution_count": 95,
   "id": "e57e1bc8-c2b4-43d1-98a6-697910fcfdc5",
   "metadata": {},
   "outputs": [
    {
     "data": {
      "text/plain": [
       "[0]"
      ]
     },
     "execution_count": 95,
     "metadata": {},
     "output_type": "execute_result"
    }
   ],
   "source": [
    "I.tolist()[0]"
   ]
  },
  {
   "cell_type": "code",
   "execution_count": 67,
   "id": "ee045c41-4b92-4f20-9d07-b75d259a19b8",
   "metadata": {},
   "outputs": [
    {
     "data": {
      "text/plain": [
       "array(0)"
      ]
     },
     "execution_count": 67,
     "metadata": {},
     "output_type": "execute_result"
    }
   ],
   "source": [
    "I.squeeze()"
   ]
  },
  {
   "cell_type": "code",
   "execution_count": 65,
   "id": "bc926fcd-7e8e-4719-a494-ac76d22abb92",
   "metadata": {},
   "outputs": [
    {
     "ename": "TypeError",
     "evalue": "'int' object is not iterable",
     "output_type": "error",
     "traceback": [
      "\u001b[0;31m---------------------------------------------------------------------------\u001b[0m",
      "\u001b[0;31mTypeError\u001b[0m                                 Traceback (most recent call last)",
      "Cell \u001b[0;32mIn[65], line 1\u001b[0m\n\u001b[0;32m----> 1\u001b[0m [i \u001b[38;5;28;01mfor\u001b[39;00m i \u001b[38;5;129;01min\u001b[39;00m I\u001b[38;5;241m.\u001b[39msqueeze()\u001b[38;5;241m.\u001b[39mtolist()]\n",
      "\u001b[0;31mTypeError\u001b[0m: 'int' object is not iterable"
     ]
    }
   ],
   "source": [
    "[i for i in I.squeeze().tolist()]"
   ]
  },
  {
   "cell_type": "code",
   "execution_count": 58,
   "id": "37ae3732-3605-4d71-b4f9-57cb4b7f6387",
   "metadata": {},
   "outputs": [],
   "source": [
    "import re"
   ]
  },
  {
   "cell_type": "code",
   "execution_count": 59,
   "id": "81581644-45ce-4e1c-a1f6-1c2c7c3631e4",
   "metadata": {},
   "outputs": [],
   "source": [
    "pred = \"Sortie: fkdmsqjflqskdjfmlqsjkdfmlqsjkdfmljqf\"\n",
    "xxx = \"Sortie:\"\n",
    "cleaned = re.sub(rf\"^{xxx}\\s*\", \"\", pred)"
   ]
  },
  {
   "cell_type": "code",
   "execution_count": 60,
   "id": "53c3c822-ecb1-44da-8e74-967d9af966a7",
   "metadata": {},
   "outputs": [
    {
     "data": {
      "text/plain": [
       "'fkdmsqjflqskdjfmlqsjkdfmlqsjkdfmljqf'"
      ]
     },
     "execution_count": 60,
     "metadata": {},
     "output_type": "execute_result"
    }
   ],
   "source": [
    "cleaned"
   ]
  },
  {
   "cell_type": "code",
   "execution_count": 28,
   "id": "39e847f7-5720-4c2a-82e6-2266635084fb",
   "metadata": {},
   "outputs": [
    {
     "data": {
      "text/plain": [
       "(1, 1024)"
      ]
     },
     "execution_count": 28,
     "metadata": {},
     "output_type": "execute_result"
    }
   ],
   "source": [
    "query_embedding.shape"
   ]
  },
  {
   "cell_type": "code",
   "execution_count": 25,
   "id": "c2ed3963-d3a0-4128-9845-83777bd4367e",
   "metadata": {},
   "outputs": [
    {
     "ename": "ValueError",
     "evalue": "not enough values to unpack (expected 2, got 1)",
     "output_type": "error",
     "traceback": [
      "\u001b[0;31m---------------------------------------------------------------------------\u001b[0m",
      "\u001b[0;31mValueError\u001b[0m                                Traceback (most recent call last)",
      "Cell \u001b[0;32mIn[25], line 1\u001b[0m\n\u001b[0;32m----> 1\u001b[0m \u001b[43membedding_index\u001b[49m\u001b[38;5;241;43m.\u001b[39;49m\u001b[43msearch\u001b[49m\u001b[43m(\u001b[49m\u001b[43membd\u001b[49m\u001b[43m)\u001b[49m\n",
      "File \u001b[0;32m~/Documents/labo/ETR-Few-Shot-Evaluation/src/icl/embedding_index.py:111\u001b[0m, in \u001b[0;36mEmbeddingIndex.search\u001b[0;34m(self, query_embedding, k)\u001b[0m\n\u001b[1;32m    110\u001b[0m \u001b[38;5;28;01mdef\u001b[39;00m\u001b[38;5;250m \u001b[39m\u001b[38;5;21msearch\u001b[39m(\u001b[38;5;28mself\u001b[39m, query_embedding, k\u001b[38;5;241m=\u001b[39m\u001b[38;5;241m3\u001b[39m):\n\u001b[0;32m--> 111\u001b[0m     distances, idxs \u001b[38;5;241m=\u001b[39m \u001b[38;5;28;43mself\u001b[39;49m\u001b[38;5;241;43m.\u001b[39;49m\u001b[43mindex\u001b[49m\u001b[38;5;241;43m.\u001b[39;49m\u001b[43msearch\u001b[49m\u001b[43m(\u001b[49m\u001b[43mquery_embedding\u001b[49m\u001b[43m,\u001b[49m\u001b[43m \u001b[49m\u001b[43mk\u001b[49m\u001b[38;5;241;43m=\u001b[39;49m\u001b[43mk\u001b[49m\u001b[43m)\u001b[49m\n\u001b[1;32m    112\u001b[0m     examples \u001b[38;5;241m=\u001b[39m \u001b[38;5;28mself\u001b[39m\u001b[38;5;241m.\u001b[39mdataset[idxs\u001b[38;5;241m.\u001b[39msqueeze()]\n\u001b[1;32m    113\u001b[0m     \u001b[38;5;28;01mreturn\u001b[39;00m Shots(\n\u001b[1;32m    114\u001b[0m         [\n\u001b[1;32m    115\u001b[0m             Shot(\n\u001b[0;32m   (...)\u001b[0m\n\u001b[1;32m    121\u001b[0m         ]\n\u001b[1;32m    122\u001b[0m     )\n",
      "File \u001b[0;32m~/Documents/labo/ETR-Few-Shot-Evaluation/.venv/lib/python3.10/site-packages/faiss/class_wrappers.py:327\u001b[0m, in \u001b[0;36mhandle_Index.<locals>.replacement_search\u001b[0;34m(self, x, k, params, D, I)\u001b[0m\n\u001b[1;32m    300\u001b[0m \u001b[38;5;28;01mdef\u001b[39;00m\u001b[38;5;250m \u001b[39m\u001b[38;5;21mreplacement_search\u001b[39m(\u001b[38;5;28mself\u001b[39m, x, k, \u001b[38;5;241m*\u001b[39m, params\u001b[38;5;241m=\u001b[39m\u001b[38;5;28;01mNone\u001b[39;00m, D\u001b[38;5;241m=\u001b[39m\u001b[38;5;28;01mNone\u001b[39;00m, I\u001b[38;5;241m=\u001b[39m\u001b[38;5;28;01mNone\u001b[39;00m):\n\u001b[1;32m    301\u001b[0m \u001b[38;5;250m    \u001b[39m\u001b[38;5;124;03m\"\"\"Find the k nearest neighbors of the set of vectors x in the index.\u001b[39;00m\n\u001b[1;32m    302\u001b[0m \n\u001b[1;32m    303\u001b[0m \u001b[38;5;124;03m    Parameters\u001b[39;00m\n\u001b[0;32m   (...)\u001b[0m\n\u001b[1;32m    324\u001b[0m \u001b[38;5;124;03m        When not enough results are found, the label is set to -1\u001b[39;00m\n\u001b[1;32m    325\u001b[0m \u001b[38;5;124;03m    \"\"\"\u001b[39;00m\n\u001b[0;32m--> 327\u001b[0m     n, d \u001b[38;5;241m=\u001b[39m x\u001b[38;5;241m.\u001b[39mshape\n\u001b[1;32m    328\u001b[0m     x \u001b[38;5;241m=\u001b[39m np\u001b[38;5;241m.\u001b[39mascontiguousarray(x, dtype\u001b[38;5;241m=\u001b[39m\u001b[38;5;124m'\u001b[39m\u001b[38;5;124mfloat32\u001b[39m\u001b[38;5;124m'\u001b[39m)\n\u001b[1;32m    329\u001b[0m     \u001b[38;5;28;01massert\u001b[39;00m d \u001b[38;5;241m==\u001b[39m \u001b[38;5;28mself\u001b[39m\u001b[38;5;241m.\u001b[39md\n",
      "\u001b[0;31mValueError\u001b[0m: not enough values to unpack (expected 2, got 1)"
     ]
    }
   ],
   "source": [
    "embedding_index.search(embd)"
   ]
  },
  {
   "cell_type": "code",
   "execution_count": 96,
   "id": "8ad7251b-11ab-4d05-a72d-c26132ca8e78",
   "metadata": {},
   "outputs": [],
   "source": [
    "import itertools"
   ]
  },
  {
   "cell_type": "code",
   "execution_count": 98,
   "id": "8236e36f-ff73-4c86-b0f4-8d0514368023",
   "metadata": {},
   "outputs": [
    {
     "data": {
      "text/plain": [
       "[(1, 2, 3), (1, 3, 2), (2, 1, 3), (2, 3, 1), (3, 1, 2), (3, 2, 1)]"
      ]
     },
     "execution_count": 98,
     "metadata": {},
     "output_type": "execute_result"
    }
   ],
   "source": [
    "list(itertools.permutations([1, 2, 3]))"
   ]
  },
  {
   "cell_type": "code",
   "execution_count": 110,
   "id": "400eb873-ab9d-4110-ad05-2ad8e43c9484",
   "metadata": {},
   "outputs": [
    {
     "data": {
      "text/plain": [
       "7.5"
      ]
     },
     "execution_count": 110,
     "metadata": {},
     "output_type": "execute_result"
    }
   ],
   "source": [
    "((3 * 3 * 5) * 600)/60/60"
   ]
  },
  {
   "cell_type": "code",
   "execution_count": 114,
   "id": "271b0721-4838-4a58-b647-c0ce6da54bbf",
   "metadata": {},
   "outputs": [
    {
     "data": {
      "text/plain": [
       "'EmbeddingIndexBuilderConfig'"
      ]
     },
     "execution_count": 114,
     "metadata": {},
     "output_type": "execute_result"
    }
   ],
   "source": [
    "config.__class__.__name__"
   ]
  },
  {
   "cell_type": "code",
   "execution_count": 116,
   "id": "dd091438-d805-4038-adba-aa06e0b833bd",
   "metadata": {},
   "outputs": [],
   "source": [
    "from typing import Literal"
   ]
  },
  {
   "cell_type": "code",
   "execution_count": 122,
   "id": "1deebde8-653e-46b3-953d-1520840260e6",
   "metadata": {},
   "outputs": [
    {
     "data": {
      "text/plain": [
       "typing.Literal[0, 1]"
      ]
     },
     "execution_count": 122,
     "metadata": {},
     "output_type": "execute_result"
    }
   ],
   "source": [
    "Literal[tuple(i for i in range(2))]"
   ]
  },
  {
   "cell_type": "code",
   "execution_count": 119,
   "id": "b8460fff-46bc-4302-ae10-f005710acf6f",
   "metadata": {},
   "outputs": [
    {
     "data": {
      "text/plain": [
       "typing.Literal[1, 3, 4]"
      ]
     },
     "execution_count": 119,
     "metadata": {},
     "output_type": "execute_result"
    }
   ],
   "source": [
    "Literal[1, 3, 4]\n"
   ]
  },
  {
   "cell_type": "code",
   "execution_count": 129,
   "id": "99e972e9-6066-4147-80cc-614b475e0c47",
   "metadata": {},
   "outputs": [],
   "source": [
    "from icl.llm import LLMClassName, LLM_CLASSES, LocalLLM"
   ]
  },
  {
   "cell_type": "code",
   "execution_count": 131,
   "id": "c4a4e7df-956c-465d-a592-f1a2718b9339",
   "metadata": {},
   "outputs": [
    {
     "data": {
      "text/plain": [
       "{'LocalLLM': icl.llm.LocalLLM}"
      ]
     },
     "execution_count": 131,
     "metadata": {},
     "output_type": "execute_result"
    }
   ],
   "source": [
    "LLM_CLASSES"
   ]
  },
  {
   "cell_type": "code",
   "execution_count": 132,
   "id": "7a334db1-3be2-4029-814a-8e8ff35d2283",
   "metadata": {},
   "outputs": [
    {
     "data": {
      "text/plain": [
       "typing.Literal['LocalLLM']"
      ]
     },
     "execution_count": 132,
     "metadata": {},
     "output_type": "execute_result"
    }
   ],
   "source": [
    "LLMClassName"
   ]
  },
  {
   "cell_type": "code",
   "execution_count": null,
   "id": "10aca36e-98b2-4baa-af00-98bad4aaf9e9",
   "metadata": {},
   "outputs": [],
   "source": []
  }
 ],
 "metadata": {
  "kernelspec": {
   "display_name": "Python 3 (ipykernel)",
   "language": "python",
   "name": "python3"
  },
  "language_info": {
   "codemirror_mode": {
    "name": "ipython",
    "version": 3
   },
   "file_extension": ".py",
   "mimetype": "text/x-python",
   "name": "python",
   "nbconvert_exporter": "python",
   "pygments_lexer": "ipython3",
   "version": "3.10.12"
  }
 },
 "nbformat": 4,
 "nbformat_minor": 5
}
